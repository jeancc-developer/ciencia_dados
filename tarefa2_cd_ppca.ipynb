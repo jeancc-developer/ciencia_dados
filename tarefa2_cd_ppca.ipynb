{
 "cells": [
  {
   "cell_type": "markdown",
   "id": "f704dd5d-0c76-4b08-a62d-e9ed2c52de53",
   "metadata": {},
   "source": [
    "# Discente: Jean Carlos de Carvalho Costa"
   ]
  },
  {
   "cell_type": "markdown",
   "id": "d1709cba-45de-4c52-8d56-5eb3bfb67599",
   "metadata": {},
   "source": [
    "## Tarefa 2"
   ]
  },
  {
   "cell_type": "code",
   "execution_count": 1,
   "id": "1c7e421a-aaef-4e6d-b446-fc370db54c75",
   "metadata": {},
   "outputs": [],
   "source": [
    "import pandas as pd\n",
    "import numpy as np\n",
    "import matplotlib.pyplot as plt\n",
    "import seaborn as sns"
   ]
  },
  {
   "cell_type": "markdown",
   "id": "2612c32f-b8ce-4d33-9dfe-cb768d1f41a6",
   "metadata": {},
   "source": [
    "<b> Discente: Jean Carlos de Carvalho Costa"
   ]
  },
  {
   "cell_type": "markdown",
   "id": "7ceeaa7e-9f38-421a-b421-a41a47d9497a",
   "metadata": {},
   "source": [
    "Instruções\n",
    "\n",
    "• O arquivo a ser submetido no SIGAA ou enviado via e-mail é um note-\n",
    "book python (extensão ipynb)\n",
    "\n",
    "• Atenção a data limite de submissão da tarefa: 05/10/2022"
   ]
  },
  {
   "cell_type": "markdown",
   "id": "401c1822-6c66-4ec1-bef9-66cf7bf34125",
   "metadata": {
    "tags": []
   },
   "source": [
    "<h3>Considerando a base de dados anexada a esta tarefa, pede-se: </h3>"
   ]
  },
  {
   "cell_type": "code",
   "execution_count": 2,
   "id": "efb1a1d5-d0bc-4c9f-9599-86c463381b8c",
   "metadata": {},
   "outputs": [],
   "source": [
    "dataset_cervejas = pd.read_csv('consumo_cerveja.csv')"
   ]
  },
  {
   "cell_type": "code",
   "execution_count": 3,
   "id": "0ddea07c-de46-4032-8266-26363ac7692c",
   "metadata": {},
   "outputs": [
    {
     "ename": "SyntaxError",
     "evalue": "invalid syntax (441487095.py, line 1)",
     "output_type": "error",
     "traceback": [
      "\u001b[1;36m  Input \u001b[1;32mIn [3]\u001b[1;36m\u001b[0m\n\u001b[1;33m    dataset_cervejas.\u001b[0m\n\u001b[1;37m                     ^\u001b[0m\n\u001b[1;31mSyntaxError\u001b[0m\u001b[1;31m:\u001b[0m invalid syntax\n"
     ]
    }
   ],
   "source": [
    "dataset_cervejas."
   ]
  },
  {
   "cell_type": "markdown",
   "id": "fff336be-7f69-42d2-ad66-b4a93e1fe6ab",
   "metadata": {
    "jp-MarkdownHeadingCollapsed": true,
    "tags": []
   },
   "source": [
    "<h4> Um gráfico de pizza e outro de barras que evidencie o consumo de cerveja durante os dias úteis da semana e no final de semana. </h4>"
   ]
  },
  {
   "cell_type": "code",
   "execution_count": null,
   "id": "c08134fc-1bfb-4dc5-8373-c95185c1a210",
   "metadata": {},
   "outputs": [],
   "source": [
    "consumo_cervejas = dataset_cervejas.loc[:,['Consumo_de_cerveja_litros','dia_semana']]"
   ]
  },
  {
   "cell_type": "code",
   "execution_count": null,
   "id": "62979d57-9cd8-4d99-80b3-0d6eaeda3731",
   "metadata": {},
   "outputs": [],
   "source": [
    "group_semana_consumo = consumo_cervejas.groupby(['dia_semana'])"
   ]
  },
  {
   "cell_type": "code",
   "execution_count": null,
   "id": "1d367149-379d-407d-9220-b40663fd1b23",
   "metadata": {},
   "outputs": [],
   "source": [
    "group_semana_consumo.describe()"
   ]
  },
  {
   "cell_type": "code",
   "execution_count": null,
   "id": "37abb744-0982-4c32-97ae-9fe7aa449eac",
   "metadata": {},
   "outputs": [],
   "source": [
    "soma = group_semana_consumo['Consumo_de_cerveja_litros'].sum()\n",
    "media = group_semana_consumo['Consumo_de_cerveja_litros'].mean()"
   ]
  },
  {
   "cell_type": "code",
   "execution_count": null,
   "id": "8fb27871-294a-4419-b47a-5bd7056f11ba",
   "metadata": {},
   "outputs": [],
   "source": [
    "soma"
   ]
  },
  {
   "cell_type": "code",
   "execution_count": null,
   "id": "d81dc180-273d-41d6-938c-df7b07f1e8f4",
   "metadata": {},
   "outputs": [],
   "source": [
    "#define data\n",
    "labels = ['Sábado', 'Domingo', 'Segunda', 'Terça', 'Quarta', 'Quinta', 'Sexta']\n",
    "\n",
    "#define Seaborn color palette to use\n",
    "colors = sns.color_palette('pastel')[0:7]\n",
    "\n",
    "#create pie chart\n",
    "pie, ax = plt.subplots(figsize=[10,6])\n",
    "plt.pie(soma, labels = labels, colors = colors, autopct='%0.2f%%')\n",
    "plt.show()"
   ]
  },
  {
   "cell_type": "code",
   "execution_count": null,
   "id": "a274d67d-cb72-4b5d-937f-f6fcb137a204",
   "metadata": {},
   "outputs": [],
   "source": [
    "labels = ['Sábado', 'Domingo', 'Segunda', 'Terça', 'Quarta', 'Quinta', 'Sexta']\n",
    "\n",
    "sns.barplot(data=soma, y=soma, x=labels)"
   ]
  },
  {
   "cell_type": "markdown",
   "id": "c4478554-8051-4bda-a661-48a290702ebb",
   "metadata": {
    "tags": []
   },
   "source": [
    "#### Um gráfico de barras que apresente o consumo total de cerveja mensal."
   ]
  },
  {
   "cell_type": "code",
   "execution_count": null,
   "id": "f68e3cb8-657d-410e-9175-f38fdc2b1037",
   "metadata": {},
   "outputs": [],
   "source": [
    "group_mes_consumo = dataset_cervejas.groupby(['mes'])"
   ]
  },
  {
   "cell_type": "code",
   "execution_count": null,
   "id": "41aa36bd-71b8-4848-9ff3-56fe3aaf8dff",
   "metadata": {},
   "outputs": [],
   "source": [
    "soma_mes = group_mes_consumo['Consumo_de_cerveja_litros'].sum()"
   ]
  },
  {
   "cell_type": "code",
   "execution_count": null,
   "id": "a5a919fb-af3c-4622-b69a-8be30bb145ff",
   "metadata": {},
   "outputs": [],
   "source": [
    "soma_mes"
   ]
  },
  {
   "cell_type": "code",
   "execution_count": null,
   "id": "5fb7c6d3-ce61-4266-97f5-4a9b6d3f9642",
   "metadata": {},
   "outputs": [],
   "source": [
    "#sns.set_theme(style=\"whitegrid\")\n",
    "f, ax = plt.subplots(figsize=(15, 8))\n",
    "labels_mes = ['Janeiro', 'Fervereiro', 'Março', 'Abril', 'Maio', 'Junho', 'Julho',\n",
    "          'Agosto', 'Setembro', 'Outubro', 'Novembro', 'Dezembro']\n",
    "\n",
    "sns.barplot(data=dataset_cervejas['mes'], y=soma_mes, x=labels_mes, color='blue', label='Total')\n",
    "\n",
    "ax.legend(ncol=2, loc=\"best\", frameon=True)\n",
    "ax.set(xlim=(-1, 12), ylabel=\"Consumo Total\",\n",
    "       xlabel=\"Meses\")\n",
    "#sns.despine(left=True, bottom=True)"
   ]
  },
  {
   "cell_type": "markdown",
   "id": "7d468ff1-592e-4e9d-9c96-5f7de2e2bb87",
   "metadata": {
    "jp-MarkdownHeadingCollapsed": true,
    "tags": []
   },
   "source": [
    "#### Um gráfico que possa relacionar a temperatura média com o consumo de cerveja, e outro que relacione a precipitação com o consumo de cerveja."
   ]
  },
  {
   "cell_type": "code",
   "execution_count": null,
   "id": "f594d647-d04a-4b9b-bf00-bb84280252c9",
   "metadata": {},
   "outputs": [],
   "source": [
    "comsumo = dataset_cervejas['Consumo_de_cerveja_litros']\n",
    "temp_medio = dataset_cervejas['Temperatura_Media_C']\n",
    "precip = dataset_cervejas['Precipitacao_mm']\n",
    "dia = dataset_cervejas['dia']"
   ]
  },
  {
   "cell_type": "code",
   "execution_count": null,
   "id": "040df4fe-9de2-4b41-9352-408baf2fddc9",
   "metadata": {},
   "outputs": [],
   "source": [
    "sns.set(style='whitegrid')\n",
    "sns.scatterplot(x=comsumo,\n",
    "                    y=temp_medio,\n",
    "                    hue=dia,\n",
    "                    data=dataset_cervejas)"
   ]
  },
  {
   "cell_type": "code",
   "execution_count": null,
   "id": "a358369a-c2bc-4549-8033-e9363f190fa4",
   "metadata": {},
   "outputs": [],
   "source": [
    "sns.set(style='whitegrid')\n",
    "sns.scatterplot(x=comsumo,\n",
    "                    y=precip,\n",
    "                    hue=dia,\n",
    "                    data=dataset_cervejas)"
   ]
  },
  {
   "cell_type": "markdown",
   "id": "4822a51b-7cfc-4a00-a65c-f5ef65a7d34f",
   "metadata": {},
   "source": [
    "#### Gráficos de barras que evidenciem o consumo de cerveja em cada mês."
   ]
  },
  {
   "cell_type": "code",
   "execution_count": null,
   "id": "ad309dce-8f75-4ded-8a70-fc17290ddae4",
   "metadata": {},
   "outputs": [],
   "source": [
    "grupo_mes = dataset_cervejas.groupby('dia')"
   ]
  },
  {
   "cell_type": "code",
   "execution_count": null,
   "id": "e0285688-ac79-468a-93b0-d3ff395a7469",
   "metadata": {},
   "outputs": [],
   "source": [
    "comsumo = dataset_cervejas['Consumo_de_cerveja_litros']\n",
    "mes = dataset_cervejas['mes']\n",
    "dia = dataset_cervejas['dia']"
   ]
  },
  {
   "cell_type": "code",
   "execution_count": null,
   "id": "48f34192-323e-4984-acec-b2ecbdbdf036",
   "metadata": {},
   "outputs": [],
   "source": [
    "mes"
   ]
  },
  {
   "cell_type": "code",
   "execution_count": null,
   "id": "7fd37084-3512-4dc8-ad71-25791531dc18",
   "metadata": {},
   "outputs": [],
   "source": [
    "sns.set_theme(style=\"dark\")\n",
    "\n",
    "# Plot each year's time series in its own facet\n",
    "g = sns.relplot(\n",
    "    data=dataset_cervejas,\n",
    "    x=\"dia\", y=\"Consumo_de_cerveja_litros\", col=\"mes\", hue=\"mes\",\n",
    "    kind=\"line\", palette=\"crest\", linewidth=4, zorder=5,\n",
    "    col_wrap=3, height=2, aspect=1.5, legend=False,\n",
    ")\n",
    "\n",
    "# Iterate over each subplot to customize further\n",
    "for year, ax in g.axes_dict.items():\n",
    "\n",
    "    # Add the title as an annotation within the plot\n",
    "    ax.text(.8, .85, year, transform=ax.transAxes, fontweight=\"bold\")\n",
    "\n",
    "    # Plot every year's time series in the background\n",
    "    sns.lineplot(\n",
    "        data=dataset_cervejas, x=\"dia\", y=\"Consumo_de_cerveja_litros\", units=\"mes\",\n",
    "        estimator=None, color=\".7\", linewidth=1, ax=ax,\n",
    "    )\n",
    "\n",
    "# Reduce the frequency of the x axis ticks\n",
    "ax.set_xticks(ax.get_xticks()[::2])\n",
    "\n",
    "# Tweak the supporting aspects of the plot\n",
    "g.set_titles(\"\")\n",
    "g.set_axis_labels(\"\", \"Frequência\")\n",
    "g.tight_layout()"
   ]
  }
 ],
 "metadata": {
  "kernelspec": {
   "display_name": "Python 3 (ipykernel)",
   "language": "python",
   "name": "python3"
  },
  "language_info": {
   "codemirror_mode": {
    "name": "ipython",
    "version": 3
   },
   "file_extension": ".py",
   "mimetype": "text/x-python",
   "name": "python",
   "nbconvert_exporter": "python",
   "pygments_lexer": "ipython3",
   "version": "3.10.5"
  }
 },
 "nbformat": 4,
 "nbformat_minor": 5
}
