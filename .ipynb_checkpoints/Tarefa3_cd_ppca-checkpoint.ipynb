{
  "cells": [
    {
      "cell_type": "markdown",
      "metadata": {
        "id": "WvMflodMjQKe"
      },
      "source": [
        "***\n",
        "# <font color=green size=10>Tarefa 3 - Ciência de Dados</font>\n",
        "***"
      ]
    },
    {
      "cell_type": "markdown",
      "metadata": {
        "id": "cVgsZ_E3jQKg"
      },
      "source": [
        "# <font color=green>DATASET DO PROJETO</font>\n",
        "***"
      ]
    },
    {
      "cell_type": "markdown",
      "metadata": {
        "id": "iN1gIbaKjQKh"
      },
      "source": [
        "### Pesquisa Nacional por Amostra de Domicílios - 2015\n",
        "\n",
        "A <b>Pesquisa Nacional por Amostra de Domicílios - PNAD</b> investiga anualmente, de forma permanente, características gerais da população, de educação, trabalho, rendimento e habitação e outras, com periodicidade variável, de acordo com as necessidades de informação para o país, como as características sobre migração, fecundidade, nupcialidade, saúde, segurança alimentar, entre outros temas. O levantamento dessas estatísticas constitui, ao longo dos 49 anos de realização da pesquisa, um importante instrumento para formulação, validação e avaliação de políticas orientadas para o desenvolvimento socioeconômico e a melhoria das condições de vida no Brasil."
      ]
    },
    {
      "cell_type": "markdown",
      "metadata": {
        "id": "U6V7br1RjQKi"
      },
      "source": [
        "### Fonte dos Dados\n",
        "\n",
        "https://ww2.ibge.gov.br/home/estatistica/populacao/trabalhoerendimento/pnad2015/microdados.shtm"
      ]
    },
    {
      "cell_type": "markdown",
      "metadata": {
        "id": "r0Fe_qnzjQKj"
      },
      "source": [
        "### Variáveis utilizadas\n",
        "\n",
        "> ### Renda\n",
        "> ***\n",
        "\n",
        "Rendimento mensal do trabalho principal para pessoas de 10 anos ou mais de idade.\n",
        "\n",
        "> ### Idade\n",
        "> ***\n",
        "\n",
        "Idade do morador na data de referência em anos.\n",
        "\n",
        "> ### Altura (elaboração própria)\n",
        "> ***\n",
        "\n",
        "Altura do morador em metros.\n",
        "\n",
        "> ### UF\n",
        "> ***\n",
        "\n",
        "|Código|Descrição|\n",
        "|---|---|\n",
        "|11|Rondônia|\n",
        "|12|Acre|\n",
        "|13|Amazonas|\n",
        "|14|Roraima|\n",
        "|15|Pará|\n",
        "|16|Amapá|\n",
        "|17|Tocantins|\n",
        "|21|Maranhão|\n",
        "|22|Piauí|\n",
        "|23|Ceará|\n",
        "|24|Rio Grande do Norte|\n",
        "|25|Paraíba|\n",
        "|26|Pernambuco|\n",
        "|27|Alagoas|\n",
        "|28|Sergipe|\n",
        "|29|Bahia|\n",
        "|31|Minas Gerais|\n",
        "|32|Espírito Santo|\n",
        "|33|Rio de Janeiro|\n",
        "|35|São Paulo|\n",
        "|41|Paraná|\n",
        "|42|Santa Catarina|\n",
        "|43|Rio Grande do Sul|\n",
        "|50|Mato Grosso do Sul|\n",
        "|51|Mato Grosso|\n",
        "|52|Goiás|\n",
        "|53|Distrito Federal|\n",
        "\n",
        "> ### Sexo\t\n",
        "> ***\n",
        "\n",
        "|Código|Descrição|\n",
        "|---|---|\n",
        "|0|Masculino|\n",
        "|1|Feminino|\n",
        "\n",
        "> ### Anos de Estudo\n",
        "> ***\n",
        "\n",
        "|Código|Descrição|\n",
        "|---|---|\n",
        "|1|Sem instrução e menos de 1 ano|\n",
        "|2|1 ano|\n",
        "|3|2 anos|\n",
        "|4|3 anos|\n",
        "|5|4 anos|\n",
        "|6|5 anos|\n",
        "|7|6 anos|\n",
        "|8|7 anos|\n",
        "|9|8 anos|\n",
        "|10|9 anos|\n",
        "|11|10 anos|\n",
        "|12|11 anos|\n",
        "|13|12 anos|\n",
        "|14|13 anos|\n",
        "|15|14 anos|\n",
        "|16|15 anos ou mais|\n",
        "|17|Não determinados| \n",
        "||Não aplicável|\n",
        "\n",
        "> ### Cor\n",
        "> ***\n",
        "\n",
        "|Código|Descrição|\n",
        "|---|---|\n",
        "|0|Indígena|\n",
        "|2|Branca|\n",
        "|4|Preta|\n",
        "|6|Amarela|\n",
        "|8|Parda|\n",
        "|9|Sem declaração|"
      ]
    },
    {
      "cell_type": "markdown",
      "metadata": {
        "id": "OK1IQH5cX7Gb"
      },
      "source": [
        "#### <font color='red'>Observação</font>\n",
        "***\n",
        "> Os seguintes tratamentos foram realizados nos dados originais:\n",
        "> 1. Foram eliminados os registros onde a <b>Renda</b> era inválida (999 999 999 999);\n",
        "> 2. Foram eliminados os registros onde a <b>Renda</b> era missing;\n",
        "> 3. Foram considerados somente os registros das <b>Pessoas de Referência</b> de cada domicílio (responsável pelo domicílio)."
      ]
    },
    {
      "cell_type": "markdown",
      "metadata": {
        "id": "8Rw70V6ojQKk"
      },
      "source": [
        "### Utilize a célula abaixo para importar as biblioteca que precisar para executar as tarefas\n",
        "#### <font color='red'>Sugestões: pandas, numpy, seaborn</font>"
      ]
    },
    {
      "cell_type": "code",
      "execution_count": null,
      "metadata": {
        "id": "fcTgimHBybMz"
      },
      "outputs": [],
      "source": []
    },
    {
      "cell_type": "markdown",
      "metadata": {
        "id": "2a-gvBvCULwt"
      },
      "source": [
        "### Importe o dataset e armazene o conteúdo em uma DataFrame"
      ]
    },
    {
      "cell_type": "code",
      "execution_count": null,
      "metadata": {
        "id": "ufRZ7TLwjQKo"
      },
      "outputs": [],
      "source": []
    },
    {
      "cell_type": "markdown",
      "metadata": {
        "id": "Oq3CKHCmTg1j"
      },
      "source": [
        "### Visualize o conteúdo do DataFrame"
      ]
    },
    {
      "cell_type": "code",
      "execution_count": null,
      "metadata": {
        "id": "GsC_WhLFjQKq",
        "scrolled": true
      },
      "outputs": [],
      "source": []
    },
    {
      "cell_type": "markdown",
      "metadata": {
        "id": "ZIqLOffNTg1Y"
      },
      "source": [
        "***\n",
        "***"
      ]
    },
    {
      "cell_type": "markdown",
      "source": [
        "# <font color=green> Parte 1 - Análise Descritiva de um Conjunto de Dados </font>\n",
        "\n",
        "Utilizando os conhecimentos adquiridos em nosso treinamento realize uma análise descritiva básica de um conjunto de dados retirados da Pesquisa Nacional por Amostra de Domicílios - 2015 do IBGE. \n",
        "\n",
        "Vamos construir histogramas, calcular e avaliar medidas de tendência central, medidas separatrizes e de dispersão dos dados.\n",
        "\n",
        "Siga o roteiro proposto e vá completando as células vazias. Procure pensar em mais informações interessantes que podem ser exploradas em nosso dataset."
      ],
      "metadata": {
        "id": "hbK9wHn0cp_L"
      }
    },
    {
      "cell_type": "markdown",
      "metadata": {
        "id": "HDrFJQitTg1n"
      },
      "source": [
        "### Para avaliarmos o comportamento da variável RENDA vamos construir uma tabela de frequências considerando as seguintes classes em salários mínimos (SM)\n",
        "#### <font color='blue'>Descreva os pontos mais relevantes que você observa na tabela e no gráfico.</font>\n",
        "\n",
        "Classes de renda:\n",
        "\n",
        "<b>A</b> ► Acima de 25 SM\n",
        "\n",
        "<b>B</b> ► De 15 a 25 SM\n",
        "\n",
        "<b>C</b> ► De 5 a 15 SM\n",
        "\n",
        "<b>D</b> ► De 2 a 5 SM\n",
        "\n",
        "<b>E</b> ► Até 2 SM\n",
        "\n",
        "Para construir as classes de renda considere que o salário mínimo na época da pesquisa era de <b>R$ 788,00</b>.\n",
        "\n",
        "#### Siga os passos abaixo:"
      ]
    },
    {
      "cell_type": "markdown",
      "metadata": {
        "id": "zJBkeGxiTg1o"
      },
      "source": [
        "### 1º Definir os intevalos das classes em reais (R$)"
      ]
    },
    {
      "cell_type": "code",
      "execution_count": null,
      "metadata": {
        "id": "-Ct3QUj6Tg1p"
      },
      "outputs": [],
      "source": []
    },
    {
      "cell_type": "markdown",
      "metadata": {
        "id": "dZ7X37CGTg1t"
      },
      "source": [
        "### 2º Definir os labels das classes"
      ]
    },
    {
      "cell_type": "code",
      "execution_count": null,
      "metadata": {
        "id": "4UFOzitTTg1u"
      },
      "outputs": [],
      "source": []
    },
    {
      "cell_type": "markdown",
      "metadata": {
        "id": "umFq1o-UTg1w"
      },
      "source": [
        "### 3º Construir a coluna de frequências"
      ]
    },
    {
      "cell_type": "code",
      "execution_count": null,
      "metadata": {
        "id": "uSztBoqOTg1x"
      },
      "outputs": [],
      "source": []
    },
    {
      "cell_type": "markdown",
      "metadata": {
        "id": "2k6nGUZKTg11"
      },
      "source": [
        "### 4º Construir a coluna de percentuais"
      ]
    },
    {
      "cell_type": "code",
      "execution_count": null,
      "metadata": {
        "id": "rdwUABsnTg12"
      },
      "outputs": [],
      "source": []
    },
    {
      "cell_type": "markdown",
      "metadata": {
        "id": "9dvk6-9_Tg16"
      },
      "source": [
        "### 5º Juntar as colunas de frequência e percentuais e ordenar as linhas de acordo com os labels das classes"
      ]
    },
    {
      "cell_type": "code",
      "execution_count": null,
      "metadata": {
        "id": "tO_bcMmgTg16"
      },
      "outputs": [],
      "source": []
    },
    {
      "cell_type": "markdown",
      "metadata": {
        "id": "DOYtXuSbTg18"
      },
      "source": [
        "### Construa um gráfico de barras para visualizar as informações da tabela de frequências acima"
      ]
    },
    {
      "cell_type": "code",
      "execution_count": null,
      "metadata": {
        "id": "e4mDPKf1Tg18"
      },
      "outputs": [],
      "source": []
    },
    {
      "cell_type": "markdown",
      "metadata": {
        "id": "9ppt5JevTg1-"
      },
      "source": [
        "> ### Conclusões\n",
        "\n",
        "Escreva suas conclusões aqui..."
      ]
    },
    {
      "cell_type": "markdown",
      "metadata": {
        "id": "yt-gFm93Tg1-"
      },
      "source": [
        "### Crie um histograma para as variáveis QUANTITATIVAS de nosso dataset\n",
        "#### <font color='blue'>Descreva os pontos mais relevantes que você observa nos gráficos (assimetrias e seus tipos, possíveis causas para determinados comportamentos etc.)</font>"
      ]
    },
    {
      "cell_type": "code",
      "execution_count": null,
      "metadata": {
        "id": "DYjq9xasTg1_"
      },
      "outputs": [],
      "source": []
    },
    {
      "cell_type": "code",
      "execution_count": null,
      "metadata": {
        "id": "uh2CWIG8Tg2A"
      },
      "outputs": [],
      "source": []
    },
    {
      "cell_type": "code",
      "execution_count": null,
      "metadata": {
        "id": "s55WPk1aTg2C"
      },
      "outputs": [],
      "source": []
    },
    {
      "cell_type": "markdown",
      "metadata": {
        "id": "w45i-qJ1Tg2E"
      },
      "source": [
        "> ### Conclusões\n",
        "\n",
        "Escreva suas conclusões aqui..."
      ]
    },
    {
      "cell_type": "markdown",
      "metadata": {
        "id": "pnAH1T5fTg2F"
      },
      "source": [
        "### Para a variável RENDA, construa um histograma somente com as informações das pessoas com rendimento até R$ 20.000,00"
      ]
    },
    {
      "cell_type": "code",
      "execution_count": null,
      "metadata": {
        "id": "C7zHF1vPTg2G"
      },
      "outputs": [],
      "source": []
    },
    {
      "cell_type": "markdown",
      "metadata": {
        "id": "vvtzLOUKTg2H"
      },
      "source": [
        "### Construa uma tabela de frequências e uma com os percentuais do cruzando das variáveis SEXO e COR\n",
        "#### <font color='blue'>Avalie o resultado da tabela e escreva suas principais conclusões</font>\n",
        "#### <font color='red'>Utilize os dicionários abaixo para renomear as linha e colunas das tabelas de frequências e dos gráficos em nosso projeto</font>"
      ]
    },
    {
      "cell_type": "code",
      "execution_count": null,
      "metadata": {
        "id": "sChJRo_qTg2I"
      },
      "outputs": [],
      "source": [
        "sexo = {\n",
        "    0: 'Masculino', \n",
        "    1: 'Feminino'\n",
        "}\n",
        "cor = {\n",
        "    0: 'Indígena', \n",
        "    2: 'Branca', \n",
        "    4: 'Preta', \n",
        "    6: 'Amarela', \n",
        "    8: 'Parda', \n",
        "    9: 'Sem declaração'\n",
        "}\n",
        "anos_de_estudo = {\n",
        "    1: 'Sem instrução e menos de 1 ano', \n",
        "    2: '1 ano', \n",
        "    3: '2 anos', \n",
        "    4: '3 anos', \n",
        "    5: '4 anos', \n",
        "    6: '5 anos', \n",
        "    7: '6 anos', \n",
        "    8: '7 anos', \n",
        "    9: '8 anos', \n",
        "    10: '9 anos', \n",
        "    11: '10 anos', \n",
        "    12: '11 anos', \n",
        "    13: '12 anos', \n",
        "    14: '13 anos', \n",
        "    15: '14 anos', \n",
        "    16: '15 anos ou mais', \n",
        "    17: 'Não determinados'\n",
        "}\n",
        "uf = {\n",
        "    11: 'Rondônia', \n",
        "    12: 'Acre', \n",
        "    13: 'Amazonas', \n",
        "    14: 'Roraima', \n",
        "    15: 'Pará', \n",
        "    16: 'Amapá', \n",
        "    17: 'Tocantins', \n",
        "    21: 'Maranhão', \n",
        "    22: 'Piauí', \n",
        "    23: 'Ceará', \n",
        "    24: 'Rio Grande do Norte', \n",
        "    25: 'Paraíba', \n",
        "    26: 'Pernambuco', \n",
        "    27: 'Alagoas', \n",
        "    28: 'Sergipe', \n",
        "    29: 'Bahia', \n",
        "    31: 'Minas Gerais', \n",
        "    32: 'Espírito Santo', \n",
        "    33: 'Rio de Janeiro', \n",
        "    35: 'São Paulo', \n",
        "    41: 'Paraná', \n",
        "    42: 'Santa Catarina', \n",
        "    43: 'Rio Grande do Sul', \n",
        "    50: 'Mato Grosso do Sul', \n",
        "    51: 'Mato Grosso', \n",
        "    52: 'Goiás', \n",
        "    53: 'Distrito Federal'\n",
        "}"
      ]
    },
    {
      "cell_type": "code",
      "execution_count": null,
      "metadata": {
        "id": "KbeFXAGSTg2K"
      },
      "outputs": [],
      "source": []
    },
    {
      "cell_type": "code",
      "execution_count": null,
      "metadata": {
        "id": "csL1jaeSTg2M"
      },
      "outputs": [],
      "source": []
    },
    {
      "cell_type": "markdown",
      "metadata": {
        "id": "2jLZmww2Tg2O"
      },
      "source": [
        "> ### Conclusões\n",
        "\n",
        "Escreva suas conclusões aqui..."
      ]
    },
    {
      "cell_type": "markdown",
      "metadata": {
        "id": "Aoeayf6zTg2P"
      },
      "source": [
        "## Realize, para a variável RENDA, uma análise descritiva com as ferramentas que aprendemos em nosso treinamento"
      ]
    },
    {
      "cell_type": "markdown",
      "metadata": {
        "id": "c2CtT71oTg2P"
      },
      "source": [
        "### Obtenha a média aritimética"
      ]
    },
    {
      "cell_type": "code",
      "execution_count": null,
      "metadata": {
        "id": "qlJESCU6Tg2P"
      },
      "outputs": [],
      "source": []
    },
    {
      "cell_type": "markdown",
      "metadata": {
        "id": "Xd4saPBCTg2R"
      },
      "source": [
        "### Obtenha a mediana"
      ]
    },
    {
      "cell_type": "code",
      "execution_count": null,
      "metadata": {
        "id": "vHTqX-UATg2R"
      },
      "outputs": [],
      "source": []
    },
    {
      "cell_type": "markdown",
      "metadata": {
        "id": "_e40rDSwTg2U"
      },
      "source": [
        "### Obtenha a moda"
      ]
    },
    {
      "cell_type": "code",
      "execution_count": null,
      "metadata": {
        "id": "BFOOdYOvTg2V"
      },
      "outputs": [],
      "source": []
    },
    {
      "cell_type": "markdown",
      "metadata": {
        "id": "Rnr1gOCMTg2X"
      },
      "source": [
        "### Obtenha o desvio médio absoluto"
      ]
    },
    {
      "cell_type": "code",
      "execution_count": null,
      "metadata": {
        "id": "TmE_1QDGTg2Y"
      },
      "outputs": [],
      "source": []
    },
    {
      "cell_type": "markdown",
      "metadata": {
        "id": "hCgV_XaQTg2Z"
      },
      "source": [
        "### Obtenha a variância"
      ]
    },
    {
      "cell_type": "code",
      "execution_count": null,
      "metadata": {
        "id": "SwRgACeGTg2a"
      },
      "outputs": [],
      "source": []
    },
    {
      "cell_type": "markdown",
      "metadata": {
        "id": "gsO6MKOcTg2c"
      },
      "source": [
        "### Obtenha o desvio-padrão"
      ]
    },
    {
      "cell_type": "code",
      "execution_count": null,
      "metadata": {
        "id": "gR-LVTRYTg2d"
      },
      "outputs": [],
      "source": []
    },
    {
      "cell_type": "markdown",
      "metadata": {
        "id": "vG-rdO5fTg2f"
      },
      "source": [
        "### Obtenha a média, mediana e valor máximo da variável RENDA segundo SEXO e COR\n",
        "#### <font color='blue'>Destaque os pontos mais importante que você observa nas tabulações</font>\n",
        "#### <font color='red'>O parâmento <i>aggfunc</i> da função <i>crosstab()</i> pode receber uma lista de funções. Exemplo: <i>aggfunc = {'mean', 'median', 'max'}</i></font>"
      ]
    },
    {
      "cell_type": "code",
      "execution_count": null,
      "metadata": {
        "id": "VgxygKWXTg2g"
      },
      "outputs": [],
      "source": []
    },
    {
      "cell_type": "markdown",
      "metadata": {
        "id": "ibndm9iwTg2i"
      },
      "source": [
        "> ### Conclusões\n",
        "\n",
        "Escreva suas conclusões aqui..."
      ]
    },
    {
      "cell_type": "markdown",
      "metadata": {
        "id": "CleJ6c1rTg2i"
      },
      "source": [
        "### Obtenha as medidas de dispersão da variável RENDA segundo SEXO e COR\n",
        "#### <font color='blue'>Destaque os pontos mais importante que você observa nas tabulações</font>\n",
        "#### <font color='red'>O parâmento <i>aggfunc</i> da função <i>crosstab()</i> pode receber uma lista de funções. Exemplo: <i>aggfunc = {'mad', 'var', 'std'}</i></font>"
      ]
    },
    {
      "cell_type": "code",
      "execution_count": null,
      "metadata": {
        "id": "bNv-eWZ3Tg2j"
      },
      "outputs": [],
      "source": []
    },
    {
      "cell_type": "markdown",
      "metadata": {
        "id": "57aHvJMSTg2l"
      },
      "source": [
        "> ### Conclusões\n",
        "\n",
        "Escreva suas conclusões aqui..."
      ]
    },
    {
      "cell_type": "markdown",
      "metadata": {
        "id": "QSYjkdyOTg2l"
      },
      "source": [
        "### Construa um box plot da variável RENDA segundo SEXO e COR\n",
        "#### <font color='blue'>É possível verificar algum comportamento diferenciado no rendimento entre os grupos de pessoas analisados? Avalie o gráfico e destaque os pontos mais importantes.</font>\n",
        "#### <font color='red'>1º - Utilize somente as informações de pessoas com renda abaixo de R$ 10.000</font>\n",
        "#### <font color='red'>2º - Para incluir uma terceira variável na construção de um boxplot utilize o parâmetro <i>hue</i> e indique a variável que quer incluir na subdivisão.</font>\n",
        "#### Mais informações: https://seaborn.pydata.org/generated/seaborn.boxplot.html"
      ]
    },
    {
      "cell_type": "code",
      "execution_count": null,
      "metadata": {
        "id": "8hGa4SMRTg2m"
      },
      "outputs": [],
      "source": []
    },
    {
      "cell_type": "markdown",
      "metadata": {
        "id": "ROiIQRFhTg2o"
      },
      "source": [
        "> ### Conclusões\n",
        "\n",
        "Escreva suas conclusões aqui..."
      ]
    },
    {
      "cell_type": "markdown",
      "metadata": {
        "id": "zi4BaGooTg2o"
      },
      "source": [
        "## <font color=\"red\">DESAFIO<font>\n",
        "### Qual percentual de pessoas de nosso <i>dataset</i> ganham um salário mínimo (R$ 788,00) ou menos?\n",
        "#### <font color='red'>Utilize a função <i>percentileofscore()</i> do <i>scipy</i> para realizar estas análises.</font>\n",
        "#### Mais informações: https://docs.scipy.org/doc/scipy/reference/generated/scipy.stats.percentileofscore.html\n"
      ]
    },
    {
      "cell_type": "code",
      "execution_count": null,
      "metadata": {
        "id": "9DwXo2yITg2p"
      },
      "outputs": [],
      "source": [
        "from scipy import stats\n",
        "\n"
      ]
    },
    {
      "cell_type": "markdown",
      "metadata": {
        "id": "bl0fOMuKTg2q"
      },
      "source": [
        "### Qual o valor máximo ganho por 99% das pessoas de nosso <i>dataset</i>?\n",
        "#### <font color='red'>Utilize o método <i>quantile()</i> do <i>pandas</i> para realizar estas análises.</font>"
      ]
    },
    {
      "cell_type": "code",
      "execution_count": null,
      "metadata": {
        "id": "cIVwy8bKTg2q"
      },
      "outputs": [],
      "source": []
    },
    {
      "cell_type": "markdown",
      "metadata": {
        "id": "zeRhvtngTg2r"
      },
      "source": [
        "### Obtenha a média, mediana, valor máximo e desvio-padrão da variável RENDA segundo ANOS DE ESTUDO e SEXO\n",
        "#### <font color='blue'>Destaque os pontos mais importante que você observa nas tabulações</font>\n",
        "#### <font color='red'>O parâmento <i>aggfunc</i> da função <i>crosstab()</i> pode receber uma lista de funções. Exemplo: <i>aggfunc = ['mean', 'median', 'max', 'std']</i></font>"
      ]
    },
    {
      "cell_type": "code",
      "execution_count": null,
      "metadata": {
        "id": "8nxGdQIpTg2s"
      },
      "outputs": [],
      "source": []
    },
    {
      "cell_type": "markdown",
      "metadata": {
        "id": "1Rm1n7a_Tg2u"
      },
      "source": [
        "### Construa um box plot da variável RENDA segundo ANOS DE ESTUDO e SEXO\n",
        "#### <font color='blue'>É possível verificar algum comportamento diferenciado no rendimento entre os grupos de pessoas analisados? Avalie o gráfico e destaque os pontos mais importantes.</font>\n",
        "#### <font color='red'>1º - Utilize somente as informações de pessoas com renda abaixo de R$ 10.000</font>\n",
        "#### <font color='red'>2º - Utilize a variável IDADE para identificar se a desigualdade se verifica para pessoas de mesma idade. Exemplo: <i>data=dados.query('Renda < 10000 and Idade == 40')</i> ou <i>data=dados.query('Renda < 10000 and Idade == 50')</i></font>\n",
        "#### <font color='red'>3º - Para incluir uma terceira variável na construção de um boxplot utilize o parâmetro <i>hue</i> e indique a variável que quer incluir na subdivisão.</font>\n",
        "#### Mais informações: https://seaborn.pydata.org/generated/seaborn.boxplot.html"
      ]
    },
    {
      "cell_type": "code",
      "execution_count": null,
      "metadata": {
        "id": "rgMU0WyJTg2v"
      },
      "outputs": [],
      "source": []
    },
    {
      "cell_type": "markdown",
      "metadata": {
        "id": "LrEECOmNTg2w"
      },
      "source": [
        "> ### Conclusões\n",
        "\n",
        "Escreva suas conclusões aqui..."
      ]
    },
    {
      "cell_type": "markdown",
      "metadata": {
        "id": "0fIFSxj8Tg2x"
      },
      "source": [
        "### Obtenha a média, mediana, valor máximo e desvio-padrão da variável RENDA segundo as UNIDADES DA FEDERAÇÃO\n",
        "#### <font color='blue'>Destaque os pontos mais importante que você observa nas tabulações</font>\n",
        "#### <font color='red'>Utilize o método <i>groupby()</i> do <i>pandas</i> juntamente com o método <i>agg()</i> para contruir a tabulação. O método <i>agg()</i> pode receber um dicionário especificando qual coluna do DataFrame deve ser utilizada e qual lista de funções estatísticas queremos obter, por exemplo: <i>dados.groupby(['UF']).agg({'Renda': ['mean', 'median', 'max', 'std']})</i></font>"
      ]
    },
    {
      "cell_type": "code",
      "execution_count": null,
      "metadata": {
        "id": "91IxQFJoTg2x"
      },
      "outputs": [],
      "source": []
    },
    {
      "cell_type": "markdown",
      "metadata": {
        "id": "6NfAKimkTg2y"
      },
      "source": [
        "### Construa um box plot da variável RENDA segundo as UNIDADES DA FEDERAÇÃO\n",
        "#### <font color='blue'>É possível verificar algum comportamento diferenciado no rendimento entre os grupos analisados? Avalie o gráfico e destaque os pontos mais importantes.</font>\n",
        "#### <font color='red'>1º - Utilize somente as informações de pessoas com renda abaixo de R$ 10.000</font>"
      ]
    },
    {
      "cell_type": "code",
      "execution_count": null,
      "metadata": {
        "id": "XdEGG3blTg2z"
      },
      "outputs": [],
      "source": []
    },
    {
      "cell_type": "markdown",
      "metadata": {
        "id": "7ssOt3MRTg22"
      },
      "source": [
        "> ### Conclusões\n",
        "\n",
        "Escreva suas conclusões aqui..."
      ]
    },
    {
      "cell_type": "markdown",
      "source": [
        "# <font color=green> Parte 2 - Probabilidades, Amostragem e Estimações </font>"
      ],
      "metadata": {
        "id": "CvA1gCiFfGLa"
      }
    },
    {
      "cell_type": "markdown",
      "metadata": {
        "id": "xEpjzbwBKa9W"
      },
      "source": [
        "Um cliente nos encomendou um estudo para avaliar o **rendimento dos chefes de domicílio no Brasil**. Para isso precisamos realizar uma nova coleta de dados, isto é, uma nova pesquisa de campo. Após reunião com o cliente foi possível elencar o seguinte conjunto de informações:\n",
        "\n",
        "> A. O resultado da pesquisa precisa estar pronto em **2 meses**;\n",
        "\n",
        "> B. Teremos somente **R$\\$$ 150.000,00** de recursos para realização da pesquisa de campo; e\n",
        "    \n",
        "> C. Seria interessante uma **margem de erro não superior a 10% em relação a média estimada**.\n",
        "\n",
        "Em nossa experiência com estudos deste tipo, sabemos que o **custo médio por indivíduo entrevistado fica em torno de R$\\$$ 100,00**. Com este conjunto de fatos avalie e obtenha o seguinte conjunto de informações para passar ao cliente:\n",
        "\n",
        "\n",
        "> 1. Para obter uma estimativa para os parâmetros da população (renda dos chefes de domicílio no Brasil), realize uma amostragem aleatória simples em nosso conjunto de dados. Essa amostra deve conter 200 elementos (utilize random_state = 101 para garantir que o mesmo experimento posso ser realizado novamente). Obtenha a média e o desvio-padrão dessa amostra.\n",
        "    \n",
        "> 2. Para a **margem de erro** especificada pelo cliente obtenha os **tamanhos de amostra** necessários para garantir os **níveis de confiança de 90%, 95% e 99%**.\n",
        "    \n",
        "> 3. Obtenha o **custo da pesquisa** para os três níveis de confiança.\n",
        "    \n",
        "> 4. Para o maior nível de confiança viável (dentro do orçamento disponível), obtenha um **intervalo de confiança para a média da população**.\n",
        "    \n",
        "> 5. Assumindo um **nível de confiança de 95%**, **quanto a pesquisa custaria ao cliente** caso fosse considerada uma **margem de erro de apenas 5%** em relação a média estimada?\n"
      ]
    },
    {
      "cell_type": "markdown",
      "metadata": {
        "id": "m4qMQ4kdKa9W"
      },
      "source": [
        "## <font color='blue'>Solução do item 1</font>"
      ]
    },
    {
      "cell_type": "markdown",
      "metadata": {
        "id": "fNb4Yb3RKa9X"
      },
      "source": [
        "### **Seleção de uma amostra aleatório simples**\n",
        "\n",
        "### <font color='red'>Lembre-se de utilizar *random_state = 101*</font>"
      ]
    },
    {
      "cell_type": "code",
      "execution_count": null,
      "metadata": {
        "id": "_HxUH0AhKa9X"
      },
      "outputs": [],
      "source": []
    },
    {
      "cell_type": "code",
      "execution_count": null,
      "metadata": {
        "id": "fJBYID7pKa9Z"
      },
      "outputs": [],
      "source": []
    },
    {
      "cell_type": "code",
      "execution_count": null,
      "metadata": {
        "id": "BXkTyV07Ka9c"
      },
      "outputs": [],
      "source": []
    },
    {
      "cell_type": "markdown",
      "metadata": {
        "id": "fB8NAJsMKa9f"
      },
      "source": [
        "### **Dados do problema**"
      ]
    },
    {
      "cell_type": "code",
      "execution_count": null,
      "metadata": {
        "id": "daBvAiqbKa9g"
      },
      "outputs": [],
      "source": [
        "recursos = 150000\n",
        "custo_entrevista = 100\n",
        "#media_amostra = amostra['Renda'].mean()\n",
        "#desvio_padrao_amostra = amostra['Renda'].std()"
      ]
    },
    {
      "cell_type": "markdown",
      "metadata": {
        "id": "waULC4fmKa9i"
      },
      "source": [
        "## <font color='blue'>Solução do item 2</font>"
      ]
    },
    {
      "cell_type": "markdown",
      "metadata": {
        "id": "dIFt1F2AKa9i"
      },
      "source": [
        "### Obtenha a margem de erro\n",
        "\n",
        "#### <font color='red'>Lembre-se que a margem de erro deve estar na mesma unidade da variável que está sendo estudada (R$)</font>"
      ]
    },
    {
      "cell_type": "code",
      "execution_count": null,
      "metadata": {
        "id": "m5s5DvDuKa9j"
      },
      "outputs": [],
      "source": []
    },
    {
      "cell_type": "markdown",
      "metadata": {
        "id": "pLoYC--IKa9l"
      },
      "source": [
        "### Tamanho da amostra ($1 - \\alpha = 90\\%$)"
      ]
    },
    {
      "cell_type": "code",
      "execution_count": null,
      "metadata": {
        "id": "-BteoZ6JKa9m"
      },
      "outputs": [],
      "source": []
    },
    {
      "cell_type": "code",
      "execution_count": null,
      "metadata": {
        "id": "2d8PcF9iKa9o"
      },
      "outputs": [],
      "source": []
    },
    {
      "cell_type": "markdown",
      "metadata": {
        "id": "brh0CpeSKa9q"
      },
      "source": [
        "### Tamanho da amostra ($1 - \\alpha = 95\\%$)"
      ]
    },
    {
      "cell_type": "code",
      "execution_count": null,
      "metadata": {
        "id": "8NtV47kVKa9q"
      },
      "outputs": [],
      "source": []
    },
    {
      "cell_type": "code",
      "execution_count": null,
      "metadata": {
        "id": "keyN_N8xKa9w"
      },
      "outputs": [],
      "source": []
    },
    {
      "cell_type": "markdown",
      "metadata": {
        "id": "rAEX9_qFKa9y"
      },
      "source": [
        "### Tamanho da amostra ($1 - \\alpha = 99\\%$)"
      ]
    },
    {
      "cell_type": "code",
      "execution_count": null,
      "metadata": {
        "id": "dvFHNFsLKa9y"
      },
      "outputs": [],
      "source": []
    },
    {
      "cell_type": "code",
      "execution_count": null,
      "metadata": {
        "id": "eTCtwDw_Ka90"
      },
      "outputs": [],
      "source": []
    },
    {
      "cell_type": "markdown",
      "metadata": {
        "id": "n3dILIrGKa93"
      },
      "source": [
        "## <font color='blue'>Solução do item 3</font>"
      ]
    },
    {
      "cell_type": "markdown",
      "metadata": {
        "id": "SzkxkOB6Ka93"
      },
      "source": [
        "### Custo da pesquisa para o nível de confiança de 90%"
      ]
    },
    {
      "cell_type": "code",
      "execution_count": null,
      "metadata": {
        "id": "j_0BpUBMKa95"
      },
      "outputs": [],
      "source": []
    },
    {
      "cell_type": "markdown",
      "metadata": {
        "id": "DdoUIGXkKa97"
      },
      "source": [
        "### Custo da pesquisa para o nível de confiança de 95%"
      ]
    },
    {
      "cell_type": "code",
      "execution_count": null,
      "metadata": {
        "id": "R4YQV7_EKa97"
      },
      "outputs": [],
      "source": []
    },
    {
      "cell_type": "markdown",
      "metadata": {
        "id": "f4SppXkOKa9-"
      },
      "source": [
        "### Custo da pesquisa para o nível de confiança de 99%"
      ]
    },
    {
      "cell_type": "code",
      "execution_count": null,
      "metadata": {
        "id": "7fZucTJIKa9-"
      },
      "outputs": [],
      "source": []
    },
    {
      "cell_type": "markdown",
      "metadata": {
        "id": "0HVhFFfMKa-A"
      },
      "source": [
        "## <font color='blue'>Solução do item 4</font>"
      ]
    },
    {
      "cell_type": "code",
      "execution_count": null,
      "metadata": {
        "id": "uTePzAGQKa-B"
      },
      "outputs": [],
      "source": []
    },
    {
      "cell_type": "markdown",
      "metadata": {
        "id": "n8uxkOcPKa-D"
      },
      "source": [
        "## <font color='blue'>Solução do item 5</font>"
      ]
    },
    {
      "cell_type": "code",
      "execution_count": null,
      "metadata": {
        "id": "AaGOyW4pKa-E"
      },
      "outputs": [],
      "source": []
    },
    {
      "cell_type": "code",
      "execution_count": null,
      "metadata": {
        "id": "31angNvBKa-G"
      },
      "outputs": [],
      "source": []
    },
    {
      "cell_type": "code",
      "execution_count": null,
      "metadata": {
        "id": "SMIRTmytKa-I"
      },
      "outputs": [],
      "source": []
    },
    {
      "cell_type": "markdown",
      "source": [
        "# <font color=green> Parte 3 - Testes de Hipóteses </font>"
      ],
      "metadata": {
        "id": "hFfN66cJl59v"
      }
    },
    {
      "cell_type": "markdown",
      "metadata": {
        "id": "YlyojQFYmKwH"
      },
      "source": [
        "### Utilize a célula abaixo para importar as biblioteca que precisar para executar as tarefas\n",
        "#### <font color='red'>Sugestões: pandas, numpy, scipy, statsmodels</font>"
      ]
    },
    {
      "cell_type": "code",
      "execution_count": null,
      "metadata": {
        "id": "h7jl9IYlmKwI"
      },
      "outputs": [],
      "source": []
    },
    {
      "cell_type": "markdown",
      "metadata": {
        "id": "lmAJLIu8pslb"
      },
      "source": [
        "## <font color='red'>Problema</font>"
      ]
    },
    {
      "cell_type": "markdown",
      "metadata": {
        "id": "0zUUY8klpslc"
      },
      "source": [
        "Você é um pesquisador que estuda o mercado de trabalho brasileiro e resolve estudar as diferenças salariais dos trabalhadores dos estados do Rio de Janeiro e de São Paulo. Durante sua pesquisa você verifica que, aparentemente, os rendimentos dos trabalhadores no estado do Rio de Janeiro são mais baixos que os rendimentos dos trabalhadores no estado de São Paulo. Para confirmar esta conclusão realize um teste de hipótese de comparação de médias em cima de duas amostras de trabalhadores dos dois estados. Siga as seguintes etapas:\n",
        "\n",
        "- Selecione duas amostras de **500 trabalhadores** para cada um dos dois estados (variável UF) para realizar o teste. Utilize o **parâmetro random_state=101**.\n",
        "- Considere o **nível de significância de 5%**.\n",
        "- Teste a hipótese de que a **renda média dos trabalhadores do Rio de Janeiro é menor que a renda média dos trabalhadores de São Paulo**."
      ]
    },
    {
      "cell_type": "markdown",
      "metadata": {
        "id": "WUknTBZgpslc"
      },
      "source": [
        "---"
      ]
    },
    {
      "cell_type": "markdown",
      "metadata": {
        "id": "xzGuwM4xpslc"
      },
      "source": [
        "### Seleção das amostras"
      ]
    },
    {
      "cell_type": "code",
      "execution_count": null,
      "metadata": {
        "id": "nuNSrzfYpsld",
        "scrolled": true
      },
      "outputs": [],
      "source": []
    },
    {
      "cell_type": "code",
      "execution_count": null,
      "metadata": {
        "id": "W-W9IOs1psle",
        "scrolled": true
      },
      "outputs": [],
      "source": []
    },
    {
      "cell_type": "markdown",
      "metadata": {
        "id": "FOFa-cHwpslg"
      },
      "source": [
        "### Dados do problema\n",
        "Obter média e desvio-padrão para as duas amostras"
      ]
    },
    {
      "cell_type": "code",
      "execution_count": null,
      "metadata": {
        "id": "BGyXCbompslh"
      },
      "outputs": [],
      "source": []
    },
    {
      "cell_type": "code",
      "execution_count": null,
      "metadata": {
        "id": "RoxFOCA3pslk"
      },
      "outputs": [],
      "source": []
    },
    {
      "cell_type": "code",
      "execution_count": null,
      "metadata": {
        "id": "Of8L6Hygpsll"
      },
      "outputs": [],
      "source": []
    },
    {
      "cell_type": "code",
      "execution_count": null,
      "metadata": {
        "id": "-cSpXXTepsln"
      },
      "outputs": [],
      "source": []
    },
    {
      "cell_type": "code",
      "execution_count": null,
      "metadata": {
        "id": "Cl7kdxkUpslo"
      },
      "outputs": [],
      "source": []
    },
    {
      "cell_type": "markdown",
      "metadata": {
        "id": "Kyp6CNssrAmw"
      },
      "source": [
        "## Lembre-se..."
      ]
    },
    {
      "cell_type": "markdown",
      "metadata": {
        "id": "xGGMFhzwrAmx"
      },
      "source": [
        "<img src='https://caelum-online-public.s3.amazonaws.com/1229-estatistica-parte3/01/img014.png' width=90%>"
      ]
    },
    {
      "cell_type": "markdown",
      "metadata": {
        "id": "PGoWwWwjpslp"
      },
      "source": [
        "---"
      ]
    },
    {
      "cell_type": "markdown",
      "metadata": {
        "id": "tO597Oxgpslp"
      },
      "source": [
        "### **Passo 1** - formulação das hipóteses $H_0$ e $H_1$\n",
        "\n",
        "#### <font color='red'>Lembre-se, a hipótese nula sempre contém a alegação de igualdade</font>"
      ]
    },
    {
      "cell_type": "markdown",
      "metadata": {
        "id": "LysVU-7fpslr"
      },
      "source": [
        "(Formule suas hipóteses aqui)"
      ]
    },
    {
      "cell_type": "markdown",
      "metadata": {
        "id": "ENKqbCgQpslr"
      },
      "source": [
        "---"
      ]
    },
    {
      "cell_type": "markdown",
      "metadata": {
        "id": "dBA05Y3Zpslr"
      },
      "source": [
        "### **Passo 2** - escolha da distribuição amostral adequada"
      ]
    },
    {
      "cell_type": "markdown",
      "metadata": {
        "id": "6_Q_Wtjlpsls"
      },
      "source": [
        "### O tamanho da amostra é maior que 30?\n",
        "#### Resp.: \n",
        "\n",
        "### Podemos afirmar que a população se distribui aproximadamente como uma normal?\n",
        "#### Resp.: \n",
        "\n",
        "### O desvio padrão populacional é conhecido?\n",
        "#### Resp.: "
      ]
    },
    {
      "cell_type": "markdown",
      "metadata": {
        "id": "T6sVzVjVpsls"
      },
      "source": [
        "---"
      ]
    },
    {
      "cell_type": "markdown",
      "metadata": {
        "id": "SUN4yJqzpsls"
      },
      "source": [
        "### **Passo 3** - fixação da significância do teste ($\\alpha$)"
      ]
    },
    {
      "cell_type": "code",
      "execution_count": null,
      "metadata": {
        "id": "b3Y_CZmzpsls"
      },
      "outputs": [],
      "source": []
    },
    {
      "cell_type": "code",
      "execution_count": null,
      "metadata": {
        "id": "qNse2bFRpslu"
      },
      "outputs": [],
      "source": []
    },
    {
      "cell_type": "markdown",
      "metadata": {
        "id": "xUhiEXRMpslv"
      },
      "source": [
        "---"
      ]
    },
    {
      "cell_type": "markdown",
      "metadata": {
        "id": "iooB1aPHpslv"
      },
      "source": [
        "### **Passo 4** - cálculo da estatística-teste e verificação desse valor com as áreas de aceitação e rejeição do teste"
      ]
    },
    {
      "cell_type": "code",
      "execution_count": null,
      "metadata": {
        "id": "AL2i9JOTpslw"
      },
      "outputs": [],
      "source": []
    },
    {
      "cell_type": "markdown",
      "metadata": {
        "id": "4dn58Fc2pslx"
      },
      "source": [
        "---"
      ]
    },
    {
      "cell_type": "markdown",
      "metadata": {
        "id": "P-7NL33-pslx"
      },
      "source": [
        "### **Passo 5** - Aceitação ou rejeição da hipótese nula"
      ]
    },
    {
      "cell_type": "markdown",
      "metadata": {
        "id": "QrObW-BXpsly"
      },
      "source": [
        "### <font color='red'>Critério do valor crítico</font>"
      ]
    },
    {
      "cell_type": "code",
      "execution_count": null,
      "metadata": {
        "id": "tkJSji7gpsly"
      },
      "outputs": [],
      "source": []
    },
    {
      "cell_type": "markdown",
      "metadata": {
        "id": "cyuNEHfwpsl0"
      },
      "source": [
        "### <font color='red'>Critério do valor $p$</font>"
      ]
    },
    {
      "cell_type": "markdown",
      "metadata": {
        "id": "UtWm-GiFPkyX"
      },
      "source": [
        "### Utilize DescrStatsW"
      ]
    },
    {
      "cell_type": "code",
      "execution_count": null,
      "metadata": {
        "id": "uW0uVFnFpsl1"
      },
      "outputs": [],
      "source": []
    },
    {
      "cell_type": "code",
      "execution_count": null,
      "metadata": {
        "id": "kP92TQqupsl1"
      },
      "outputs": [],
      "source": []
    },
    {
      "cell_type": "code",
      "execution_count": null,
      "metadata": {
        "id": "diOjg4G8psl2"
      },
      "outputs": [],
      "source": []
    },
    {
      "cell_type": "code",
      "execution_count": null,
      "metadata": {
        "id": "tweh7q_spsl5"
      },
      "outputs": [],
      "source": []
    },
    {
      "cell_type": "markdown",
      "metadata": {
        "id": "Syf0s5X2Pkye"
      },
      "source": [
        "### Utilize CompareMeans"
      ]
    },
    {
      "cell_type": "code",
      "execution_count": null,
      "metadata": {
        "id": "qRkrt2XZhL9v"
      },
      "outputs": [],
      "source": []
    },
    {
      "cell_type": "code",
      "execution_count": null,
      "metadata": {
        "id": "tSbOZem9hLvs"
      },
      "outputs": [],
      "source": []
    },
    {
      "cell_type": "code",
      "execution_count": null,
      "metadata": {
        "id": "E3NF1BzYpsl6"
      },
      "outputs": [],
      "source": []
    },
    {
      "cell_type": "markdown",
      "metadata": {
        "id": "UnBVO1uDpslz"
      },
      "source": [
        "### <font color='green'>Conclusão: (Digite sua conclusão aqui)</font>"
      ]
    },
    {
      "cell_type": "code",
      "execution_count": null,
      "metadata": {
        "id": "IAcPnKQArAny"
      },
      "outputs": [],
      "source": []
    }
  ],
  "metadata": {
    "colab": {
      "provenance": [],
      "collapsed_sections": [
        "WvMflodMjQKe",
        "cVgsZ_E3jQKg",
        "iN1gIbaKjQKh",
        "U6V7br1RjQKi",
        "r0Fe_qnzjQKj",
        "OK1IQH5cX7Gb",
        "8Rw70V6ojQKk",
        "2a-gvBvCULwt",
        "Oq3CKHCmTg1j",
        "hbK9wHn0cp_L",
        "HDrFJQitTg1n",
        "zJBkeGxiTg1o",
        "dZ7X37CGTg1t",
        "umFq1o-UTg1w",
        "2k6nGUZKTg11",
        "9dvk6-9_Tg16",
        "DOYtXuSbTg18",
        "9ppt5JevTg1-",
        "yt-gFm93Tg1-",
        "w45i-qJ1Tg2E",
        "pnAH1T5fTg2F",
        "vvtzLOUKTg2H",
        "2jLZmww2Tg2O",
        "Aoeayf6zTg2P",
        "c2CtT71oTg2P",
        "Xd4saPBCTg2R",
        "_e40rDSwTg2U",
        "Rnr1gOCMTg2X",
        "hCgV_XaQTg2Z",
        "gsO6MKOcTg2c",
        "vG-rdO5fTg2f",
        "ibndm9iwTg2i",
        "CleJ6c1rTg2i",
        "57aHvJMSTg2l",
        "QSYjkdyOTg2l",
        "ROiIQRFhTg2o",
        "zi4BaGooTg2o",
        "bl0fOMuKTg2q",
        "zeRhvtngTg2r",
        "1Rm1n7a_Tg2u",
        "LrEECOmNTg2w",
        "0fIFSxj8Tg2x",
        "6NfAKimkTg2y",
        "7ssOt3MRTg22",
        "CvA1gCiFfGLa",
        "m4qMQ4kdKa9W",
        "fNb4Yb3RKa9X",
        "fB8NAJsMKa9f",
        "waULC4fmKa9i",
        "dIFt1F2AKa9i",
        "pLoYC--IKa9l",
        "brh0CpeSKa9q",
        "rAEX9_qFKa9y",
        "n3dILIrGKa93",
        "SzkxkOB6Ka93",
        "DdoUIGXkKa97",
        "f4SppXkOKa9-",
        "0HVhFFfMKa-A",
        "n8uxkOcPKa-D",
        "hFfN66cJl59v",
        "YlyojQFYmKwH",
        "lmAJLIu8pslb",
        "xzGuwM4xpslc",
        "FOFa-cHwpslg",
        "Kyp6CNssrAmw",
        "tO597Oxgpslp",
        "dBA05Y3Zpslr",
        "6_Q_Wtjlpsls",
        "SUN4yJqzpsls",
        "iooB1aPHpslv",
        "P-7NL33-pslx",
        "QrObW-BXpsly",
        "cyuNEHfwpsl0",
        "UtWm-GiFPkyX",
        "Syf0s5X2Pkye",
        "UnBVO1uDpslz"
      ]
    },
    "kernelspec": {
      "display_name": "Python 3",
      "language": "python",
      "name": "python3"
    },
    "language_info": {
      "codemirror_mode": {
        "name": "ipython",
        "version": 3
      },
      "file_extension": ".py",
      "mimetype": "text/x-python",
      "name": "python",
      "nbconvert_exporter": "python",
      "pygments_lexer": "ipython3",
      "version": "3.6.5"
    }
  },
  "nbformat": 4,
  "nbformat_minor": 0
}